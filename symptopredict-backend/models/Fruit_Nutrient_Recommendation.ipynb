{
 "cells": [
  {
   "cell_type": "code",
   "execution_count": 1,
   "id": "1948e31f",
   "metadata": {},
   "outputs": [],
   "source": [
    "import pandas as pd\n",
    "from sklearn.model_selection import train_test_split\n",
    "from sklearn.tree import DecisionTreeClassifier\n",
    "from sklearn.preprocessing import LabelEncoder\n",
    "from sklearn.metrics import accuracy_score\n",
    "import ipywidgets as widgets\n",
    "from IPython.display import display"
   ]
  },
  {
   "cell_type": "code",
   "execution_count": 3,
   "id": "4c5ea982",
   "metadata": {},
   "outputs": [
    {
     "data": {
      "application/vnd.jupyter.widget-view+json": {
       "model_id": "eaf7e5656f4443b995b896246e953acc",
       "version_major": 2,
       "version_minor": 0
      },
      "text/plain": [
       "interactive(children=(Dropdown(description='Select Disease:', options=('Anemia', 'Asthma', 'Bone Health', 'Can…"
      ]
     },
     "metadata": {},
     "output_type": "display_data"
    }
   ],
   "source": [
    "data = pd.read_excel('fruit_disease.xlsx')  # Replace with your actual file path\n",
    "\n",
    "\n",
    "# Initialize LabelEncoders for each categorical column\n",
    "label_encoders = {}\n",
    "for column in ['Fruit', 'Nutrients', 'Diseases/Conditions Affected', 'Recommended Intake']:\n",
    "    le = LabelEncoder()\n",
    "    data[column] = le.fit_transform(data[column].astype(str))\n",
    "    label_encoders[column] = le  # Store encoder for possible future use\n",
    "\n",
    "#  Split data into features (X) and multiple targets (y)\n",
    "X = data[['Diseases/Conditions Affected']]  # Features (Disease as input)\n",
    "y = data[['Fruit', 'Nutrients', 'Recommended Intake']]  # Targets (Fruit, Nutrients, Intake)\n",
    "\n",
    "#  Split data into training and testing sets (80% training, 20% testing)\n",
    "X_train, X_test, y_train, y_test = train_test_split(X, y, test_size=0.2, random_state=42)\n",
    "\n",
    "#  Initialize and train individual Decision Tree models for each target\n",
    "fruit_model = DecisionTreeClassifier(max_depth=5, random_state=42)\n",
    "nutrients_model = DecisionTreeClassifier(max_depth=5, random_state=42)\n",
    "intake_model = DecisionTreeClassifier(max_depth=5, random_state=42)\n",
    "\n",
    "fruit_model.fit(X_train, y_train['Fruit'])\n",
    "nutrients_model.fit(X_train, y_train['Nutrients'])\n",
    "intake_model.fit(X_train, y_train['Recommended Intake'])\n",
    "\n",
    "#  Create a function to predict nutrients, fruit, and intake based on disease\n",
    "def recommend_for_disease(disease_name):\n",
    "    # Encode the disease input\n",
    "    disease_encoded = label_encoders['Diseases/Conditions Affected'].transform([disease_name])[0]\n",
    "    \n",
    "    # Make predictions\n",
    "    predicted_fruit = fruit_model.predict([[disease_encoded]])[0]\n",
    "    predicted_nutrients = nutrients_model.predict([[disease_encoded]])[0]\n",
    "    predicted_intake = intake_model.predict([[disease_encoded]])[0]\n",
    "    \n",
    "    # Decode predictions for user-friendly output\n",
    "    fruit_name = label_encoders['Fruit'].inverse_transform([predicted_fruit])[0]\n",
    "    nutrients = label_encoders['Nutrients'].inverse_transform([predicted_nutrients])[0]\n",
    "    recommended_intake = label_encoders['Recommended Intake'].inverse_transform([predicted_intake])[0]\n",
    "    \n",
    "    return {\n",
    "        \"Recommended Fruit\": fruit_name,\n",
    "        \"Nutrients Needed\": nutrients,\n",
    "        \"Recommended Intake\": recommended_intake\n",
    "    }\n",
    "\n",
    "#  Create the interactive UI\n",
    "def display_recommendation(disease_name):\n",
    "    # Get the recommendation based on the selected disease\n",
    "    recommendation = recommend_for_disease(disease_name)\n",
    "    \n",
    "    # Display the recommendation\n",
    "    print(\"\\nRecommended Fruit:\", recommendation[\"Recommended Fruit\"])\n",
    "    print(\"Nutrients Needed:\", recommendation[\"Nutrients Needed\"])\n",
    "    print(\"Recommended Intake:\", recommendation[\"Recommended Intake\"])\n",
    "\n",
    "# dropdown widget for disease selection\n",
    "disease_options = label_encoders['Diseases/Conditions Affected'].classes_\n",
    "disease_dropdown = widgets.Dropdown(\n",
    "    options=disease_options,\n",
    "    description='Select Disease:',\n",
    "    style={'description_width': 'initial'}\n",
    ")\n",
    "\n",
    "widgets.interactive(display_recommendation, disease_name=disease_dropdown)\n"
   ]
  },
  {
   "cell_type": "code",
   "execution_count": 4,
   "id": "ebb4a9e1",
   "metadata": {},
   "outputs": [
    {
     "data": {
      "application/vnd.jupyter.widget-view+json": {
       "model_id": "2619724737ff4da798adce7cdb789580",
       "version_major": 2,
       "version_minor": 0
      },
      "text/plain": [
       "interactive(children=(Dropdown(description='Select Disease:', options=('Anemia', 'Asthma', 'Bone Health', 'Can…"
      ]
     },
     "metadata": {},
     "output_type": "display_data"
    }
   ],
   "source": [
    "data = pd.read_excel('fruit_disease.xlsx')  # Replace with your actual file path\n",
    "\n",
    "\n",
    "# Initialize LabelEncoders for each categorical column\n",
    "label_encoders = {}\n",
    "for column in ['Fruit', 'Nutrients', 'Diseases/Conditions Affected', 'Recommended Intake']:\n",
    "    le = LabelEncoder()\n",
    "    data[column] = le.fit_transform(data[column].astype(str))\n",
    "    label_encoders[column] = le  # Store encoder for possible future use\n",
    "\n",
    "#  Split data into features (X) and multiple targets (y)\n",
    "X = data[['Diseases/Conditions Affected']]  # Features (Disease as input)\n",
    "y = data[['Fruit', 'Nutrients', 'Recommended Intake']]  # Targets (Fruit, Nutrients, Intake)\n",
    "\n",
    "#  Split data into training and testing sets (80% training, 20% testing)\n",
    "X_train, X_test, y_train, y_test = train_test_split(X, y, test_size=0.2, random_state=42)\n",
    "\n",
    "#  Initialize and train individual Decision Tree models for each target\n",
    "fruit_model = DecisionTreeClassifier(max_depth=5, random_state=42)\n",
    "nutrients_model = DecisionTreeClassifier(max_depth=5, random_state=42)\n",
    "intake_model = DecisionTreeClassifier(max_depth=5, random_state=42)\n",
    "\n",
    "fruit_model.fit(X_train, y_train['Fruit'])\n",
    "nutrients_model.fit(X_train, y_train['Nutrients'])\n",
    "intake_model.fit(X_train, y_train['Recommended Intake'])\n",
    "\n",
    "#  Create a function to predict nutrients, fruit, and intake based on disease\n",
    "def recommend_for_disease(disease_name):\n",
    "    # Encode the disease input\n",
    "    disease_encoded = label_encoders['Diseases/Conditions Affected'].transform([disease_name])[0]\n",
    "    \n",
    "    # Make predictions\n",
    "    predicted_fruit = fruit_model.predict([[disease_encoded]])[0]\n",
    "    predicted_nutrients = nutrients_model.predict([[disease_encoded]])[0]\n",
    "    predicted_intake = intake_model.predict([[disease_encoded]])[0]\n",
    "    \n",
    "    # Decode predictions for user-friendly output\n",
    "    fruit_name = label_encoders['Fruit'].inverse_transform([predicted_fruit])[0]\n",
    "    nutrients = label_encoders['Nutrients'].inverse_transform([predicted_nutrients])[0]\n",
    "    recommended_intake = label_encoders['Recommended Intake'].inverse_transform([predicted_intake])[0]\n",
    "    \n",
    "    return {\n",
    "        \"Recommended Fruit\": fruit_name,\n",
    "        \"Nutrients Needed\": nutrients,\n",
    "        \"Recommended Intake\": recommended_intake\n",
    "    }\n",
    "\n",
    "#  Create the interactive UI\n",
    "def display_recommendation(disease_name):\n",
    "    # Get the recommendation based on the selected disease\n",
    "    recommendation = recommend_for_disease(disease_name)\n",
    "    \n",
    "    # Display the recommendation\n",
    "    print(\"\\nRecommended Fruit:\", recommendation[\"Recommended Fruit\"])\n",
    "    print(\"Nutrients Needed:\", recommendation[\"Nutrients Needed\"])\n",
    "    print(\"Recommended Intake:\", recommendation[\"Recommended Intake\"])\n",
    "\n",
    "# dropdown widget for disease selection\n",
    "disease_options = label_encoders['Diseases/Conditions Affected'].classes_\n",
    "disease_dropdown = widgets.Dropdown(\n",
    "    options=disease_options,\n",
    "    description='Select Disease:',\n",
    "    style={'description_width': 'initial'}\n",
    ")\n",
    "\n",
    "widgets.interactive(display_recommendation, disease_name=disease_dropdown)\n"
   ]
  },
  {
   "cell_type": "code",
   "execution_count": null,
   "id": "e5ba5896",
   "metadata": {},
   "outputs": [],
   "source": []
  }
 ],
 "metadata": {
  "kernelspec": {
   "display_name": "Python 3 (ipykernel)",
   "language": "python",
   "name": "python3"
  },
  "language_info": {
   "codemirror_mode": {
    "name": "ipython",
    "version": 3
   },
   "file_extension": ".py",
   "mimetype": "text/x-python",
   "name": "python",
   "nbconvert_exporter": "python",
   "pygments_lexer": "ipython3",
   "version": "3.9.13"
  }
 },
 "nbformat": 4,
 "nbformat_minor": 5
}
