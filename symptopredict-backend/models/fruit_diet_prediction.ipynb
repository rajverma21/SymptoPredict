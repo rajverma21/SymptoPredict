{
 "cells": [
  {
   "cell_type": "markdown",
   "metadata": {},
   "source": [
    "Importing Libraries"
   ]
  },
  {
   "cell_type": "code",
   "execution_count": 2,
   "metadata": {},
   "outputs": [],
   "source": [
    "# Data handling and manipulation\n",
    "import pandas as pd\n",
    "# Libraries for cleaning and processing data\n",
    "import numpy as np\n",
    "\n",
    "# Machine Learning libraries\n",
    "from sklearn.model_selection import train_test_split\n",
    "from sklearn.tree import DecisionTreeClassifier\n",
    "from sklearn.preprocessing import LabelEncoder\n",
    "\n",
    "# Metrics for model evaluation\n",
    "from sklearn.model_selection import train_test_split\n",
    "from sklearn.tree import DecisionTreeClassifier\n",
    "from sklearn.preprocessing import LabelEncoder\n",
    "from sklearn.metrics import accuracy_score\n",
    "\n",
    "#For interactive widgets\n",
    "import ipywidgets as widgets\n",
    "from IPython.display import display\n",
    "\n",
    "# For handling Excel file saving\n",
    "import openpyxl\n",
    "\n",
    "# # Visualization\n",
    "# import matplotlib.pyplot as plt\n",
    "# import seaborn as sns"
   ]
  },
  {
   "cell_type": "markdown",
   "metadata": {},
   "source": [
    "Data Cleaning (Doses dataset)"
   ]
  },
  {
   "cell_type": "code",
   "execution_count": 3,
   "metadata": {},
   "outputs": [
    {
     "name": "stdout",
     "output_type": "stream",
     "text": [
      "Doses Dataset Columns: Index(['Disease', 'Fruit', 'Dose (Breakfast)', 'Dose (Lunch)',\n",
      "       'Dose (Dinner)'],\n",
      "      dtype='object')\n",
      "Doses Dataset Preview:\n",
      "            Disease         Fruit Dose (Breakfast)     Dose (Lunch)  \\\n",
      "0     Heart Disease  Strawberries    1 cups (176g)                0   \n",
      "1  Digestive Issues  Strawberries   1 medium (87g)  2 slices (151g)   \n",
      "2            Anemia        Papaya                0  3 slices (164g)   \n",
      "3            Anemia        Papaya  2 medium (132g)                0   \n",
      "4            Anemia        Banana  2 medium (188g)                0   \n",
      "\n",
      "     Dose (Dinner)  \n",
      "0  2 medium (163g)  \n",
      "1    2 cups (240g)  \n",
      "2  1 slices (201g)  \n",
      "3    2 cups (226g)  \n",
      "4  2 medium (130g)  \n",
      "Cleaned Doses Dataset Preview:\n",
      "            Disease         Fruit Dose (Breakfast)     Dose (Lunch)  \\\n",
      "0     Heart Disease  Strawberries    1 cups (176g)                0   \n",
      "1  Digestive Issues  Strawberries   1 medium (87g)  2 slices (151g)   \n",
      "2            Anemia        Papaya                0  3 slices (164g)   \n",
      "3            Anemia        Papaya  2 medium (132g)                0   \n",
      "4            Anemia        Banana  2 medium (188g)                0   \n",
      "\n",
      "     Dose (Dinner)  \n",
      "0  2 medium (163g)  \n",
      "1    2 cups (240g)  \n",
      "2  1 slices (201g)  \n",
      "3    2 cups (226g)  \n",
      "4  2 medium (130g)  \n"
     ]
    }
   ],
   "source": [
    "# Step 1: Read the doses dataset\n",
    "doses_data = pd.read_excel('Fruit_Doses_for_Diseases.xlsx')  # Load doses dataset\n",
    "\n",
    "# Step 2: Inspect the columns and first few rows\n",
    "print(\"Doses Dataset Columns:\", doses_data.columns)\n",
    "print(\"Doses Dataset Preview:\")\n",
    "print(doses_data.head())\n",
    "\n",
    "# Step 3: Clean the doses dataset\n",
    "# Drop rows with missing values in the critical column 'Fruit'\n",
    "doses_data_cleaned = doses_data.dropna(subset=['Fruit'])\n",
    "\n",
    "# Step 4: Remove duplicate rows\n",
    "doses_data_cleaned = doses_data_cleaned.drop_duplicates()\n",
    "\n",
    "# Step 5: Inspect the cleaned data\n",
    "print(\"Cleaned Doses Dataset Preview:\")\n",
    "print(doses_data_cleaned.head())\n",
    "\n",
    "# Step 6: Save the cleaned doses dataset to a new file\n",
    "doses_data_cleaned.to_excel('Cleaned_Fruit_Doses_for_Diseases.xlsx', index=False)"
   ]
  },
  {
   "cell_type": "markdown",
   "metadata": {},
   "source": [
    "Merging the Doses Dataset with the Fruit Disease dataset"
   ]
  },
  {
   "cell_type": "code",
   "execution_count": 4,
   "metadata": {
    "vscode": {
     "languageId": "ruby"
    }
   },
   "outputs": [
    {
     "name": "stdout",
     "output_type": "stream",
     "text": [
      "Fruit Disease Dataset Columns: Index(['Fruit', 'Nutrients', 'Diseases/Conditions Affected',\n",
      "       'Potential Benefits', 'Recommended Intake'],\n",
      "      dtype='object')\n",
      "Cleaned Doses Dataset Columns: Index(['Disease', 'Fruit', 'Dose (Breakfast)', 'Dose (Lunch)',\n",
      "       'Dose (Dinner)'],\n",
      "      dtype='object')\n",
      "Merged Dataset Preview:\n",
      "            Disease         Fruit Dose (Breakfast)     Dose (Lunch)  \\\n",
      "0     Heart Disease  Strawberries    1 cups (176g)                0   \n",
      "1  Digestive Issues  Strawberries   1 medium (87g)  2 slices (151g)   \n",
      "2            Anemia        Papaya                0  3 slices (164g)   \n",
      "3            Anemia        Papaya                0  3 slices (164g)   \n",
      "4            Anemia        Papaya                0  3 slices (164g)   \n",
      "\n",
      "     Dose (Dinner)          Nutrients   Recommended Intake  \n",
      "0  2 medium (163g)                NaN                  NaN  \n",
      "1    2 cups (240g)                NaN                  NaN  \n",
      "2  1 slices (201g)    Zinc, Vitamin C     1 medium per day  \n",
      "3  1 slices (201g)    Vitamin E, Iron  3 servings per week  \n",
      "4  1 slices (201g)  Folate, Magnesium  3 servings per week  \n"
     ]
    }
   ],
   "source": [
    "# Step 7: Load the cleaned doses dataset\n",
    "doses_data_cleaned = pd.read_excel('Cleaned_Fruit_Doses_for_Diseases.xlsx')\n",
    "\n",
    "# Step 8: Load the fruit_disease_dataset\n",
    "fruit_disease_data = pd.read_excel('fruit_disease_dataset.xlsx')\n",
    "\n",
    "# Step 9: Inspect the columns of both datasets\n",
    "print(\"Fruit Disease Dataset Columns:\", fruit_disease_data.columns)\n",
    "print(\"Cleaned Doses Dataset Columns:\", doses_data_cleaned.columns)\n",
    "\n",
    "# Step 10: Merge the datasets on the 'Fruit' column\n",
    "merged_data = pd.merge(doses_data_cleaned, fruit_disease_data[['Fruit', 'Nutrients', 'Recommended Intake']], on='Fruit', how='left')\n",
    "\n",
    "# Step 11: Inspect the merged dataset to ensure 'Nutrients' and 'Recommended Intake' are added correctly\n",
    "print(\"Merged Dataset Preview:\")\n",
    "print(merged_data.head())\n",
    "\n",
    "# Step 12: Save the merged dataset with nutrients and recommended intake\n",
    "merged_data.to_excel('Merged_Fruit_Doses_with_Nutrients_and_Intake.xlsx', index=False)"
   ]
  },
  {
   "cell_type": "markdown",
   "metadata": {},
   "source": [
    "Encoding the Data for the Decision Tree Model"
   ]
  },
  {
   "cell_type": "code",
   "execution_count": 5,
   "metadata": {},
   "outputs": [
    {
     "name": "stdout",
     "output_type": "stream",
     "text": [
      "Fruit Model Accuracy: 0.13580032653271112\n",
      "Nutrients Model Accuracy: 0.010708730250556006\n",
      "Intake Model Accuracy: 0.12377389538097626\n"
     ]
    }
   ],
   "source": [
    "# Step 12: Load the merged dataset\n",
    "merged_data = pd.read_excel('Merged_Fruit_Doses_with_Nutrients_and_Intake.xlsx', engine='openpyxl')\n",
    "\n",
    "# Step 13: Encoding categorical columns using LabelEncoder\n",
    "label_encoders = {}\n",
    "# Encoding categorical columns ('Fruit', 'Disease', 'Nutrients', and 'Recommended Intake')\n",
    "for column in ['Fruit', 'Disease', 'Nutrients', 'Recommended Intake']:\n",
    "    le = LabelEncoder()\n",
    "    merged_data[column] = le.fit_transform(merged_data[column].astype(str))\n",
    "    label_encoders[column] = le  # Store encoder for later use\n",
    "\n",
    "# Step 14: Split data into features (X) and targets (y)\n",
    "X = merged_data[['Disease']]  # Disease as input feature\n",
    "y = merged_data[['Fruit', 'Nutrients', 'Recommended Intake']]  # Targets: Fruit, Nutrients, Recommended Intake\n",
    "\n",
    "# Step 15: Split the data into training and testing sets (80% training, 20% testing)\n",
    "X_train, X_test, y_train, y_test = train_test_split(X, y, test_size=0.2, random_state=42)\n",
    "\n",
    "# Step 16: Initialize the Decision Tree Classifier and train the model for each target\n",
    "fruit_model = DecisionTreeClassifier(max_depth=5, random_state=42)\n",
    "nutrients_model = DecisionTreeClassifier(max_depth=5, random_state=42)\n",
    "intake_model = DecisionTreeClassifier(max_depth=5, random_state=42)\n",
    "\n",
    "# Train models for each target variable (Fruit, Nutrients, Recommended Intake)\n",
    "fruit_model.fit(X_train, y_train['Fruit'])\n",
    "nutrients_model.fit(X_train, y_train['Nutrients'])\n",
    "intake_model.fit(X_train, y_train['Recommended Intake'])\n",
    "\n",
    "# Step 17: Evaluate the models using accuracy score\n",
    "fruit_accuracy = accuracy_score(y_test['Fruit'], fruit_model.predict(X_test))\n",
    "nutrients_accuracy = accuracy_score(y_test['Nutrients'], nutrients_model.predict(X_test))\n",
    "intake_accuracy = accuracy_score(y_test['Recommended Intake'], intake_model.predict(X_test))\n",
    "\n",
    "print(f\"Fruit Model Accuracy: {fruit_accuracy}\")\n",
    "print(f\"Nutrients Model Accuracy: {nutrients_accuracy}\")\n",
    "print(f\"Intake Model Accuracy: {intake_accuracy}\")"
   ]
  },
  {
   "cell_type": "markdown",
   "metadata": {},
   "source": [
    "Diet Chart"
   ]
  },
  {
   "cell_type": "code",
   "execution_count": null,
   "metadata": {},
   "outputs": [
    {
     "name": "stdout",
     "output_type": "stream",
     "text": [
      "Fruit Model Accuracy: 0.062311557788944726\n"
     ]
    },
    {
     "data": {
      "application/vnd.jupyter.widget-view+json": {
       "model_id": "aff04f9a5a4b4c3db870cc97e6cd6811",
       "version_major": 2,
       "version_minor": 0
      },
      "text/plain": [
       "interactive(children=(Dropdown(description='Select Disease:', options=('Heart Disease', 'Digestive Issues', 'A…"
      ]
     },
     "execution_count": 6,
     "metadata": {},
     "output_type": "execute_result"
    }
   ],
   "source": [
    "# Load the cleaned fruit doses data\n",
    "cleaned_fruit_doses_data = pd.read_excel('Cleaned_Fruit_Doses_for_Diseases.xlsx')\n",
    "\n",
    "# Rename the column 'Diseases/Conditions Affected' to 'Disease'\n",
    "cleaned_fruit_doses_data.rename(columns={'Diseases': 'Disease'}, inplace=True)\n",
    "\n",
    "# Step 1: Function to extract quantity from the Dose columns\n",
    "def extract_quantity_from_dose(dose_column):\n",
    "    \"\"\"Extracts the numeric quantity (in grams) from the dose description.\"\"\"\n",
    "    # If there is no dose, return 0\n",
    "    if pd.isna(dose_column) or dose_column == '0':\n",
    "        return 0\n",
    "    # Extract the numeric part from strings like '2 cups (176g)'\n",
    "    try:\n",
    "        quantity = int(dose_column.split('(')[1].replace('g)', '').strip())\n",
    "    except Exception as e:\n",
    "        quantity = 0  # In case of malformed data\n",
    "    return quantity\n",
    "\n",
    "# Applying the function to extract the quantity (in grams) for each meal (Breakfast, Lunch, Dinner)\n",
    "cleaned_fruit_doses_data['Breakfast_Quantity (g)'] = cleaned_fruit_doses_data['Dose (Breakfast)'].apply(extract_quantity_from_dose)\n",
    "cleaned_fruit_doses_data['Lunch_Quantity (g)'] = cleaned_fruit_doses_data['Dose (Lunch)'].apply(extract_quantity_from_dose)\n",
    "cleaned_fruit_doses_data['Dinner_Quantity (g)'] = cleaned_fruit_doses_data['Dose (Dinner)'].apply(extract_quantity_from_dose)\n",
    "\n",
    "# Step 2: Encoding the 'Disease' column using LabelEncoder\n",
    "label_encoder = LabelEncoder()\n",
    "cleaned_fruit_doses_data['Disease_encoded'] = label_encoder.fit_transform(cleaned_fruit_doses_data['Disease'])\n",
    "\n",
    "# Step 3: Train the Decision Tree model for Fruit\n",
    "X = cleaned_fruit_doses_data[['Disease_encoded']]  # Disease (encoded) as input feature\n",
    "y = cleaned_fruit_doses_data['Fruit']  # Target: Fruit\n",
    "\n",
    "# Split the data into training and testing sets (80% training, 20% testing)\n",
    "X_train, X_test, y_train, y_test = train_test_split(X, y, test_size=0.2, random_state=42)\n",
    "\n",
    "# Initialize the DecisionTreeClassifier\n",
    "fruit_model = DecisionTreeClassifier(max_depth=5, random_state=42)\n",
    "\n",
    "# Train the model\n",
    "fruit_model.fit(X_train, y_train)\n",
    "\n",
    "# Evaluate the model's accuracy\n",
    "fruit_accuracy = accuracy_score(y_test, fruit_model.predict(X_test))\n",
    "print(f\"Fruit Model Accuracy: {fruit_accuracy}\")\n",
    "\n",
    "# Step 4: Function to generate diet chart based on selected disease\n",
    "def generate_diet_chart(disease):\n",
    "    # Step 4.1: Encode the selected disease\n",
    "    disease_encoded = label_encoder.transform([disease])[0]  # Transform disease to encoded value\n",
    "    \n",
    "    # Step 4.2: Get the unique fruits for the selected disease\n",
    "    fruits_for_disease = cleaned_fruit_doses_data[cleaned_fruit_doses_data['Disease'] == disease]['Fruit'].unique()\n",
    "    \n",
    "    # Step 4.3: Create a Weekly Diet Chart for the selected disease\n",
    "    diet_chart = []\n",
    "    \n",
    "    # Structure: 7 days x 3 meals (Breakfast, Lunch, Dinner)\n",
    "    meals = ['Breakfast', 'Lunch', 'Dinner']\n",
    "    fruit_index = 0\n",
    "    \n",
    "    for day in range(7):  # 7 days\n",
    "        for meal in meals:\n",
    "            # Get the corresponding fruit for the meal\n",
    "            selected_fruit = fruits_for_disease[fruit_index % len(fruits_for_disease)]\n",
    "            \n",
    "            # Get the quantity (in grams) for each meal\n",
    "            if meal == 'Breakfast':\n",
    "                quantity = cleaned_fruit_doses_data[(cleaned_fruit_doses_data['Fruit'] == selected_fruit)]['Breakfast_Quantity (g)'].values[0]\n",
    "            elif meal == 'Lunch':\n",
    "                quantity = cleaned_fruit_doses_data[(cleaned_fruit_doses_data['Fruit'] == selected_fruit)]['Lunch_Quantity (g)'].values[0]\n",
    "            else:\n",
    "                quantity = cleaned_fruit_doses_data[(cleaned_fruit_doses_data['Fruit'] == selected_fruit)]['Dinner_Quantity (g)'].values[0]\n",
    "            \n",
    "            diet_chart.append({\n",
    "                'Day': day + 1,\n",
    "                'Meal': meal,\n",
    "                'Fruit': selected_fruit,\n",
    "                'Quantity (g)': quantity\n",
    "            })\n",
    "            \n",
    "            # Cycle through the fruits for the next meal\n",
    "            fruit_index += 1\n",
    "    \n",
    "    # Convert to DataFrame\n",
    "    diet_df = pd.DataFrame(diet_chart)\n",
    "    \n",
    "    # Display the diet chart\n",
    "    print(f\"Diet chart for {disease}:\")\n",
    "    display(diet_df)\n",
    "\n",
    "# Step 5: Create a dropdown for selecting the disease\n",
    "disease_list = cleaned_fruit_doses_data['Disease'].unique().tolist()\n",
    "\n",
    "disease_dropdown = widgets.Dropdown(\n",
    "    options=disease_list,\n",
    "    description='Select Disease:',\n",
    "    disabled=False\n",
    ")\n",
    "\n",
    "# Attach the function to the dropdown selection\n",
    "widgets.interactive(generate_diet_chart, disease=disease_dropdown)"
   ]
  },
  {
   "cell_type": "code",
   "execution_count": null,
   "metadata": {},
   "outputs": [],
   "source": []
  }
 ],
 "metadata": {
  "kernelspec": {
   "display_name": "Python 3 (ipykernel)",
   "language": "python",
   "name": "python3"
  },
  "language_info": {
   "codemirror_mode": {
    "name": "ipython",
    "version": 3
   },
   "file_extension": ".py",
   "mimetype": "text/x-python",
   "name": "python",
   "nbconvert_exporter": "python",
   "pygments_lexer": "ipython3",
   "version": "3.12.1"
  }
 },
 "nbformat": 4,
 "nbformat_minor": 4
}
